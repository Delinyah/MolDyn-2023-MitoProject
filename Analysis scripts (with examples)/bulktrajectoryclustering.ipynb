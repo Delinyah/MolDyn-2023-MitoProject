{
 "cells": [
  {
   "cell_type": "markdown",
   "id": "7d90a972-b2f6-44dd-8d49-9887c64ce107",
   "metadata": {},
   "source": [
    "<font color='#524987'><h1 style=\"font-size:3.5em;\">Comparative bulk analysis of<br>weighted lipid enrichment landscapes</h1></font>\n",
    "**<font color='#524987'>Delinyah Koning**</font><br>\n",
    "<font color='#524987'>Molecular Dynamics, University of Groningen (2023)</font>\n",
    "\n",
    "Trajectory grouping based on (dis)similarities in lipid enrichment/depletion profiles may reveal insights in colocalization patterns and membrane microenvironments.<br> \n",
    "The currently proposed method computes a scalar score based on *enrichment* (not depletion) and hierarchically clusters trajectories accordingly.\n",
    "\n",
    "**Note: This is an example notebook.**\n",
    "\n",
    "<div class=\"alert alert-block alert-warning\">Individual trajectory enrichment/depletion analysis must have been performed, of which output data is used in the here proposed method.</div>"
   ]
  },
  {
   "cell_type": "markdown",
   "id": "933eedad-7df8-4f61-ade9-0b1029fb96ca",
   "metadata": {},
   "source": [
    "Using the aligned shortest-distance particle positions, the function compute_counts(bins, lipid_types, frames, index_residue_dict) bins the XY plane of the system and computes leaflet- and lipid-type specific bin counts over a set of frames.\n",
    "\n",
    "The function compute_enrichment(counts, totalnumberofbins, leaflet_type) calculates a bin expectancy value by assuming a uniform distribution of lipids across only the bins that originally contained lipids. This adjusted expectancy is used to calculate enrichment values for each bin. The enrichment for each bin is determined as a percentual deviation from this expectancy, which gives insight into lipid type-specific enrichment (positive deviation) or depletion (negative deviation). For visualization and analysis, the function percentagescoresfunction(dataframes) computes a weighted enrichment score for each lipid type in every trajectory. The enrichment values' proximity to the center of the grid determines the weighting. A 2D Gaussian distribution centered on the grid provides the weights, emphasizing values closer to the center. Each lipid type in every trajectory gets a singular score based on the mean of these weighted enrichment values. These scores are organized into a DataFrame and visualized in a heatmap. The dendrogram on the y-axis of the heatmap displays the hierarchical clustering results using the Ward method based on Euclidean distances. This offers a comparative view of the lipid enrichment profiles among trajectories.\n",
    "\n",
    "In this context, the Euclidean distance acts as a metric for the dissimilarity between lipid enrichment profiles of the trajectories. For each lipid enrichment profile, imagine it as a point in a multi-dimensional space. Each dimension corresponds to a different lipid type. To be more specific, if you have n lipid types, then each lipid enrichment profile is a point in n-dimensional space. The Euclidean distance between two such points (i.e., two lipid enrichment profiles) is calculated using the formula:\n",
    "\n",
    "$$\n",
    "d(A, B) = \\sqrt{\\sum_{i=1}^{n} (A_i - B_i)^2}\n",
    "$$\n",
    "\n",
    "Where A_i and B_i are the ith components of points A and B, respectively. This distance quantifies the similarity or difference between two trajectories based on their lipid enrichment profiles. The dendrogram in the heatmap visually depicts the hierarchical clustering results, thereby grouping trajectories according to the similarities in their lipid interactions."
   ]
  },
  {
   "cell_type": "code",
   "execution_count": 1,
   "id": "5c3262b8-2509-4558-a55e-2caf18cd085e",
   "metadata": {},
   "outputs": [
    {
     "name": "stdout",
     "output_type": "stream",
     "text": [
      "/Users/delinyahkoning/Downloads/oldanalyses/csvs\n"
     ]
    }
   ],
   "source": [
    "cd /Users/delinyahkoning/Downloads/oldanalyses/csvs"
   ]
  },
  {
   "cell_type": "code",
   "execution_count": 2,
   "id": "904494f7-876f-4aa6-b48c-f7b98f39e15d",
   "metadata": {},
   "outputs": [],
   "source": [
    "import numpy as np\n",
    "import matplotlib.pyplot as plt \n",
    "import pandas as pd\n",
    "import seaborn as sns\n",
    "import os\n",
    "import glob\n",
    "from sklearn.decomposition import PCA\n",
    "import matplotlib.colors as mcolors"
   ]
  },
  {
   "cell_type": "markdown",
   "id": "b673c561-ad71-4e99-b031-c36f324bbffa",
   "metadata": {},
   "source": [
    "## Scoring and hierarchically clustering enrichment"
   ]
  },
  {
   "cell_type": "markdown",
   "id": "d590e8c9-eefb-4802-b94d-242a8b848390",
   "metadata": {},
   "source": [
    "Read in enrichment data"
   ]
  },
  {
   "cell_type": "code",
   "execution_count": 3,
   "id": "555e5073-4d2d-4dd2-baca-9dda455ddcb7",
   "metadata": {
    "tags": []
   },
   "outputs": [],
   "source": [
    "filenames = glob.glob('*lower-enrichment.txt')\n",
    "dataframes = [pd.read_csv(filename, sep='\\t') for filename in filenames]\n",
    "\n",
    "dataframes = {}\n",
    "\n",
    "for filename in filenames:\n",
    "    name = os.path.basename(filename).split('.')[0]\n",
    "    dataframes[name] = pd.read_csv(filename, sep='\\t')"
   ]
  },
  {
   "cell_type": "markdown",
   "id": "a43d6f62-3b4d-419f-b070-0f8a927d2c11",
   "metadata": {},
   "source": [
    "If the upper leaflet or lower leaflet is not symmetrical in lipid-type composition, you may need to exclude empty columns from the dataframes."
   ]
  },
  {
   "cell_type": "markdown",
   "id": "bdb5d45e-7187-4219-9032-3aae5e37f52a",
   "metadata": {},
   "source": [
    "    for name, df in dataframes.items():\n",
    "        # Drop the last column (using iloc to select it)\n",
    "        dataframes[name] = df.iloc[:, :-1]\n"
   ]
  },
  {
   "cell_type": "markdown",
   "id": "56610037-445c-47ca-beff-2405cc56221d",
   "metadata": {},
   "source": [
    "<br>\n",
    "Calculate scores (see explanation below)"
   ]
  },
  {
   "cell_type": "code",
   "execution_count": 4,
   "id": "88bb3eab-50ac-4389-85d3-b5a5e2c00b7b",
   "metadata": {},
   "outputs": [
    {
     "data": {
      "image/png": "[encoded data removed]",
      "text/plain": [
       "<Figure size 500x800 with 4 Axes>"
      ]
     },
     "metadata": {},
     "output_type": "display_data"
    }
   ],
   "source": [
    "def percentagescoresfunction(dataframes):\n",
    "    \"\"\"\n",
    "    Calculate weighted scores for lipid data and generate a heatmap.\n",
    "\n",
    "    This function takes a dictionary of Pandas DataFrames, where each DataFrame\n",
    "    contains lipid data in a 1D array-like format. The function calculates weighted\n",
    "    scores for each lipid type using a 2D Gaussian weighting scheme, then normalizes\n",
    "    these scores and plots them as a hierarchical clustered heatmap.\n",
    "\n",
    "    Parameters\n",
    "    ----------\n",
    "    dataframes : dict of pd.DataFrame\n",
    "        A dictionary containing the names of samples as keys and their corresponding\n",
    "        lipid data as values in Pandas DataFrame format.\n",
    "\n",
    "    Returns\n",
    "    -------\n",
    "    dict\n",
    "        A dictionary containing the weighted scores for each lipid type in each sample.\n",
    "        The keys of the dictionary are the names of the samples and the values are dictionaries\n",
    "        with lipid types as keys and their corresponding weighted scores as values.\n",
    "\n",
    "    Notes\n",
    "    -----\n",
    "    - The DataFrames in the `dataframes` dictionary should contain lipid data in 1D array-like\n",
    "      format where each column represents a different type of lipid.\n",
    "    - The size of the 2D grid is determined by the square root of the length of the DataFrame.\n",
    "    - The heatmap is generated using seaborn's clustermap function with Ward's method for hierarchical\n",
    "      clustering and Euclidean distance as the distance metric.\n",
    "\n",
    "    Examples\n",
    "    --------\n",
    "    >>> data1 = pd.DataFrame({'lipid1': np.random.rand(100), 'lipid2': np.random.rand(100)})\n",
    "    >>> data2 = pd.DataFrame({'lipid1': np.random.rand(100), 'lipid2': np.random.rand(100)})\n",
    "    >>> dataframes = {'sample1': data1, 'sample2': data2}\n",
    "    >>> scores = percentagescoresfunction(dataframes)\n",
    "    \"\"\"\n",
    "    \n",
    "    scores = {}\n",
    "    \n",
    "    for name, df in dataframes.items():\n",
    "                \n",
    "        # calculate grid size\n",
    "        grid_size = int(np.sqrt(len(df)))\n",
    "        \n",
    "        # 2D Gaussian weighting scheme\n",
    "        x, y = np.indices((grid_size, grid_size))\n",
    "        center = np.array([grid_size / 2, grid_size / 2])\n",
    "        dists = np.sqrt((x - center[0])**2 + (y - center[1])**2)\n",
    "        weights = np.exp(-dists / 150)\n",
    "        \n",
    "        for lipid in df.columns:            \n",
    "            data_2d = np.reshape(df[lipid].values, (grid_size, grid_size))\n",
    "            data_2d[data_2d <= 0] = 0\n",
    "            weighted_data = data_2d * weights\n",
    "            score = np.mean(weighted_data)\n",
    "            \n",
    "            if name in scores:\n",
    "                scores[name][lipid] = score\n",
    "            else:\n",
    "                scores[name] = {lipid: score}\n",
    "\n",
    "    df_scores = pd.DataFrame(scores).T\n",
    "\n",
    "     # score normalization to 0-100 scale\n",
    "    df_scores = (df_scores - df_scores.min().min()) / (df_scores.max().max() - df_scores.min().min()) * 100\n",
    "    \n",
    "    # heatmap\n",
    "    g = sns.clustermap(df_scores, cmap='Spectral_r', annot=False, fmt=\".2f\", annot_kws={\"size\": 8}, method='ward', metric='euclidean', col_cluster=True, figsize=(5, 8))\n",
    "    cm = g\n",
    "    hm = cm.ax_heatmap.get_position()\n",
    "    plt.setp(cm.ax_heatmap.yaxis.get_majorticklabels(), fontsize=6)\n",
    "    cm.ax_heatmap.set_position([hm.x0, hm.y0, hm.width*1, hm.height])\n",
    "    col = cm.ax_col_dendrogram.get_position()\n",
    "    cm.ax_col_dendrogram.set_position([col.x0, col.y0, col.width*1, col.height*0.5])\n",
    "    \n",
    "    cbar_position = g.cax.get_position()  # Get the current position of the colorbar\n",
    "    cbar_position_new = [cbar_position.x0, cbar_position.y0, cbar_position.width / 2, cbar_position.height / 2]  # Modify the width and height\n",
    "    g.cax.set_position(cbar_position_new)  # Set the new position of the colorbar\n",
    "    \n",
    "    yticklabels = [label.split('-')[0] for label in df_scores.index]\n",
    "    g.ax_heatmap.set_yticks(np.arange(len(yticklabels)))\n",
    "    g.ax_heatmap.set_yticklabels(yticklabels, fontsize=7)\n",
    "\n",
    "    plt.setp(g.ax_heatmap.get_xticklabels(), fontsize=7)\n",
    "    plt.setp(g.ax_heatmap.get_yticklabels(), fontsize=7)\n",
    "        \n",
    "    plt.show()\n",
    "    \n",
    "    return scores\n",
    "\n",
    "scores = percentagescoresfunction(dataframes)"
   ]
  }
 ],
 "metadata": {
  "kernelspec": {
   "display_name": "Python 3 (ipykernel)",
   "language": "python",
   "name": "python3"
  },
  "language_info": {
   "codemirror_mode": {
    "name": "ipython",
    "version": 3
   },
   "file_extension": ".py",
   "mimetype": "text/x-python",
   "name": "python",
   "nbconvert_exporter": "python",
   "pygments_lexer": "ipython3",
   "version": "3.9.13"
  }
 },
 "nbformat": 4,
 "nbformat_minor": 5
}
